{
  "nbformat": 4,
  "nbformat_minor": 0,
  "metadata": {
    "kernelspec": {
      "display_name": "Python 3",
      "language": "python",
      "name": "python3"
    },
    "language_info": {
      "codemirror_mode": {
        "name": "ipython",
        "version": 3
      },
      "file_extension": ".py",
      "mimetype": "text/x-python",
      "name": "python",
      "nbconvert_exporter": "python",
      "pygments_lexer": "ipython3",
      "version": "3.7.5"
    },
    "colab": {
      "name": "Day34_Homework2.ipynb",
      "provenance": [],
      "include_colab_link": true
    },
    "accelerator": "GPU"
  },
  "cells": [
    {
      "cell_type": "markdown",
      "metadata": {
        "id": "view-in-github",
        "colab_type": "text"
      },
      "source": [
        "<a href=\"https://colab.research.google.com/github/BoonthichaSaejia/Homework_Datacamp_1/blob/master/Day34_Neural%20Network/Day34_Homework2.ipynb\" target=\"_parent\"><img src=\"https://colab.research.google.com/assets/colab-badge.svg\" alt=\"Open In Colab\"/></a>"
      ]
    },
    {
      "cell_type": "code",
      "metadata": {
        "id": "xpgTdHCaWQGW"
      },
      "source": [
        "import pandas as pd\n",
        "import numpy as np\n",
        "import matplotlib.pyplot as plt \n",
        "from sklearn.model_selection import train_test_split\n",
        "from tensorflow import keras"
      ],
      "execution_count": 1,
      "outputs": []
    },
    {
      "cell_type": "markdown",
      "metadata": {
        "id": "jlTyoWKB7ysn"
      },
      "source": [
        "## **Import Data**"
      ]
    },
    {
      "cell_type": "code",
      "metadata": {
        "id": "P0HoA-ah1bgB"
      },
      "source": [
        "from keras.datasets import mnist"
      ],
      "execution_count": 2,
      "outputs": []
    },
    {
      "cell_type": "markdown",
      "metadata": {
        "id": "XdEQts4o7uMf"
      },
      "source": [
        "## **Split Data**"
      ]
    },
    {
      "cell_type": "code",
      "metadata": {
        "id": "WtqhbTZK47Qk"
      },
      "source": [
        "(x_train,y_train),(x_test,y_test)=mnist.load_data()"
      ],
      "execution_count": 49,
      "outputs": []
    },
    {
      "cell_type": "code",
      "metadata": {
        "id": "6hlh3FSe1baF"
      },
      "source": [
        "x_train = x_train.reshape(60000, 28, 28, 1) #add an additional dimension to represent the single-channel\r\n",
        "x_test = x_test.reshape(10000, 28, 28, 1)\r\n",
        "\r\n",
        "x_train = x_train.astype('float32')         # change integers to 32-bit floating point numbers\r\n",
        "x_test = x_test.astype('float32')\r\n",
        "\r\n",
        "x_train /= 255                              # normalize each value for each pixel for the entire vector for each input\r\n",
        "x_test /= 255"
      ],
      "execution_count": 50,
      "outputs": []
    },
    {
      "cell_type": "code",
      "metadata": {
        "colab": {
          "base_uri": "https://localhost:8080/"
        },
        "id": "H3MCDjss1bXc",
        "outputId": "a86c9c64-d077-4cff-ee56-fe8c9e520230"
      },
      "source": [
        "print(x_train.shape)\r\n",
        "print(y_train.shape)\r\n",
        "\r\n",
        "print(x_test.shape)\r\n",
        "print(y_test.shape)"
      ],
      "execution_count": 51,
      "outputs": [
        {
          "output_type": "stream",
          "text": [
            "(60000, 28, 28, 1)\n",
            "(60000,)\n",
            "(10000, 28, 28, 1)\n",
            "(10000,)\n"
          ],
          "name": "stdout"
        }
      ]
    },
    {
      "cell_type": "code",
      "metadata": {
        "id": "fzxeHdu7WQHC"
      },
      "source": [
        "from keras.optimizers import Adam\n",
        "from keras.optimizers import SGD\n",
        "from keras.preprocessing.image import ImageDataGenerator\n",
        "from keras.layers import Conv2D, MaxPooling2D, ZeroPadding2D, GlobalAveragePooling2D, Flatten\n",
        "from keras.layers.normalization import BatchNormalization\n",
        "from keras.utils import np_utils  \n",
        "from keras.models import Sequential\n",
        "from keras.layers.core import Dense, Dropout, Activation"
      ],
      "execution_count": 52,
      "outputs": []
    },
    {
      "cell_type": "code",
      "metadata": {
        "id": "r_yG9f9R95RN"
      },
      "source": [
        "nb_classes = 10 \r\n",
        "y_train = np_utils.to_categorical(y_train, nb_classes)\r\n",
        "y_test = np_utils.to_categorical(y_test, nb_classes)"
      ],
      "execution_count": 53,
      "outputs": []
    },
    {
      "cell_type": "code",
      "metadata": {
        "id": "cuB7je8f-pez"
      },
      "source": [
        "model = Sequential()                                 # Linear stacking of layers\r\n",
        "\r\n",
        "# Convolution Layer 1\r\n",
        "model.add(Conv2D(32, (3, 3), input_shape=(28,28,1))) # 32 different 3x3 kernels -- so 32 feature maps\r\n",
        "model.add(BatchNormalization(axis=-1))               # normalize each feature map before activation\r\n",
        "convLayer01 = Activation('relu')                     # activation\r\n",
        "model.add(convLayer01)\r\n",
        "\r\n",
        "# Convolution Layer 2\r\n",
        "model.add(Conv2D(32, (3, 3)))                        # 32 different 3x3 kernels -- so 32 feature maps\r\n",
        "model.add(BatchNormalization(axis=-1))               # normalize each feature map before activation\r\n",
        "model.add(Activation('relu'))                        # activation\r\n",
        "convLayer02 = MaxPooling2D(pool_size=(2,2))          # Pool the max values over a 2x2 kernel\r\n",
        "model.add(convLayer02)\r\n",
        "\r\n",
        "# Convolution Layer 3\r\n",
        "model.add(Conv2D(64,(3, 3)))                         # 64 different 3x3 kernels -- so 64 feature maps\r\n",
        "model.add(BatchNormalization(axis=-1))               # normalize each feature map before activation\r\n",
        "convLayer03 = Activation('relu')                     # activation\r\n",
        "model.add(convLayer03)\r\n",
        "\r\n",
        "# Convolution Layer 4\r\n",
        "model.add(Conv2D(64, (3, 3)))                        # 64 different 3x3 kernels -- so 64 feature maps\r\n",
        "model.add(BatchNormalization(axis=-1))               # normalize each feature map before activation\r\n",
        "model.add(Activation('relu'))                        # activation\r\n",
        "convLayer04 = MaxPooling2D(pool_size=(2,2))          # Pool the max values over a 2x2 kernel\r\n",
        "model.add(convLayer04)\r\n",
        "model.add(Flatten())                                 # Flatten final 4x4x64 output matrix into a 1024-length vector\r\n",
        "\r\n",
        "# Fully Connected Layer 5\r\n",
        "model.add(Dense(512))                                # 512 FCN nodes\r\n",
        "model.add(BatchNormalization())                      # normalization\r\n",
        "model.add(Activation('relu'))                        # activation\r\n",
        "\r\n",
        "# Fully Connected Layer 6                       \r\n",
        "model.add(Dropout(0.2))                              # 20% dropout of randomly selected nodes\r\n",
        "model.add(Dense(10))                                 # final 10 FCN nodes\r\n",
        "model.add(Activation('softmax'))                     # softmax activation"
      ],
      "execution_count": 54,
      "outputs": []
    },
    {
      "cell_type": "code",
      "metadata": {
        "colab": {
          "base_uri": "https://localhost:8080/"
        },
        "id": "bo-9_D91-q3Z",
        "outputId": "1712bf37-4978-48f1-d0a5-e6b0776422f4"
      },
      "source": [
        "model.summary()"
      ],
      "execution_count": 55,
      "outputs": [
        {
          "output_type": "stream",
          "text": [
            "Model: \"sequential_8\"\n",
            "_________________________________________________________________\n",
            "Layer (type)                 Output Shape              Param #   \n",
            "=================================================================\n",
            "conv2d_5 (Conv2D)            (None, 26, 26, 32)        320       \n",
            "_________________________________________________________________\n",
            "batch_normalization_6 (Batch (None, 26, 26, 32)        128       \n",
            "_________________________________________________________________\n",
            "activation_6 (Activation)    (None, 26, 26, 32)        0         \n",
            "_________________________________________________________________\n",
            "conv2d_6 (Conv2D)            (None, 24, 24, 32)        9248      \n",
            "_________________________________________________________________\n",
            "batch_normalization_7 (Batch (None, 24, 24, 32)        128       \n",
            "_________________________________________________________________\n",
            "activation_7 (Activation)    (None, 24, 24, 32)        0         \n",
            "_________________________________________________________________\n",
            "max_pooling2d_2 (MaxPooling2 (None, 12, 12, 32)        0         \n",
            "_________________________________________________________________\n",
            "conv2d_7 (Conv2D)            (None, 10, 10, 64)        18496     \n",
            "_________________________________________________________________\n",
            "batch_normalization_8 (Batch (None, 10, 10, 64)        256       \n",
            "_________________________________________________________________\n",
            "activation_8 (Activation)    (None, 10, 10, 64)        0         \n",
            "_________________________________________________________________\n",
            "conv2d_8 (Conv2D)            (None, 8, 8, 64)          36928     \n",
            "_________________________________________________________________\n",
            "batch_normalization_9 (Batch (None, 8, 8, 64)          256       \n",
            "_________________________________________________________________\n",
            "activation_9 (Activation)    (None, 8, 8, 64)          0         \n",
            "_________________________________________________________________\n",
            "max_pooling2d_3 (MaxPooling2 (None, 4, 4, 64)          0         \n",
            "_________________________________________________________________\n",
            "flatten_1 (Flatten)          (None, 1024)              0         \n",
            "_________________________________________________________________\n",
            "dense_20 (Dense)             (None, 512)               524800    \n",
            "_________________________________________________________________\n",
            "batch_normalization_10 (Batc (None, 512)               2048      \n",
            "_________________________________________________________________\n",
            "activation_10 (Activation)   (None, 512)               0         \n",
            "_________________________________________________________________\n",
            "dropout_1 (Dropout)          (None, 512)               0         \n",
            "_________________________________________________________________\n",
            "dense_21 (Dense)             (None, 10)                5130      \n",
            "_________________________________________________________________\n",
            "activation_11 (Activation)   (None, 10)                0         \n",
            "=================================================================\n",
            "Total params: 597,738\n",
            "Trainable params: 596,330\n",
            "Non-trainable params: 1,408\n",
            "_________________________________________________________________\n"
          ],
          "name": "stdout"
        }
      ]
    },
    {
      "cell_type": "code",
      "metadata": {
        "id": "Q90zQXB7_frL"
      },
      "source": [
        "model.compile(loss='categorical_crossentropy', optimizer='adam', metrics=['accuracy'])"
      ],
      "execution_count": 56,
      "outputs": []
    },
    {
      "cell_type": "code",
      "metadata": {
        "id": "1f0-65Tz_oX3"
      },
      "source": [
        "gen = ImageDataGenerator(rotation_range=8, width_shift_range=0.08, shear_range=0.3,\r\n",
        "                         height_shift_range=0.08, zoom_range=0.08)\r\n",
        "\r\n",
        "test_gen = ImageDataGenerator()"
      ],
      "execution_count": 57,
      "outputs": []
    },
    {
      "cell_type": "code",
      "metadata": {
        "id": "bLGphcwD_rYW"
      },
      "source": [
        "train_generator = gen.flow(x_train, y_train, batch_size=128)\r\n",
        "test_generator = test_gen.flow(x_test, y_test, batch_size=128)"
      ],
      "execution_count": 58,
      "outputs": []
    },
    {
      "cell_type": "code",
      "metadata": {
        "colab": {
          "base_uri": "https://localhost:8080/"
        },
        "id": "8w2K02YN_5TR",
        "outputId": "2ee82fa3-cf26-40f8-9a61-7b796f3c05be"
      },
      "source": [
        "history=model.fit_generator(train_generator, steps_per_epoch=60000//128, epochs=20, verbose=1, validation_data=test_generator, validation_steps=10000//128)"
      ],
      "execution_count": 60,
      "outputs": [
        {
          "output_type": "stream",
          "text": [
            "Epoch 1/20\n",
            "\r  1/468 [..............................] - ETA: 25s - loss: 0.0555 - accuracy: 0.9922"
          ],
          "name": "stdout"
        },
        {
          "output_type": "stream",
          "text": [
            "/usr/local/lib/python3.6/dist-packages/tensorflow/python/keras/engine/training.py:1844: UserWarning: `Model.fit_generator` is deprecated and will be removed in a future version. Please use `Model.fit`, which supports generators.\n",
            "  warnings.warn('`Model.fit_generator` is deprecated and '\n"
          ],
          "name": "stderr"
        },
        {
          "output_type": "stream",
          "text": [
            "468/468 [==============================] - 19s 40ms/step - loss: 0.0282 - accuracy: 0.9911 - val_loss: 0.0204 - val_accuracy: 0.9930\n",
            "Epoch 2/20\n",
            "468/468 [==============================] - 19s 40ms/step - loss: 0.0273 - accuracy: 0.9915 - val_loss: 0.0201 - val_accuracy: 0.9936\n",
            "Epoch 3/20\n",
            "468/468 [==============================] - 18s 39ms/step - loss: 0.0260 - accuracy: 0.9916 - val_loss: 0.0194 - val_accuracy: 0.9931\n",
            "Epoch 4/20\n",
            "468/468 [==============================] - 18s 38ms/step - loss: 0.0236 - accuracy: 0.9926 - val_loss: 0.0426 - val_accuracy: 0.9862\n",
            "Epoch 5/20\n",
            "468/468 [==============================] - 18s 38ms/step - loss: 0.0227 - accuracy: 0.9927 - val_loss: 0.0180 - val_accuracy: 0.9937\n",
            "Epoch 6/20\n",
            "468/468 [==============================] - 18s 39ms/step - loss: 0.0200 - accuracy: 0.9934 - val_loss: 0.0216 - val_accuracy: 0.9924\n",
            "Epoch 7/20\n",
            "468/468 [==============================] - 18s 38ms/step - loss: 0.0203 - accuracy: 0.9936 - val_loss: 0.0191 - val_accuracy: 0.9940\n",
            "Epoch 8/20\n",
            "468/468 [==============================] - 17s 37ms/step - loss: 0.0183 - accuracy: 0.9938 - val_loss: 0.0178 - val_accuracy: 0.9935\n",
            "Epoch 9/20\n",
            "468/468 [==============================] - 17s 36ms/step - loss: 0.0183 - accuracy: 0.9941 - val_loss: 0.0306 - val_accuracy: 0.9907\n",
            "Epoch 10/20\n",
            "468/468 [==============================] - 17s 36ms/step - loss: 0.0172 - accuracy: 0.9944 - val_loss: 0.0279 - val_accuracy: 0.9913\n",
            "Epoch 11/20\n",
            "468/468 [==============================] - 16s 35ms/step - loss: 0.0165 - accuracy: 0.9944 - val_loss: 0.0136 - val_accuracy: 0.9955\n",
            "Epoch 12/20\n",
            "468/468 [==============================] - 16s 35ms/step - loss: 0.0174 - accuracy: 0.9944 - val_loss: 0.0285 - val_accuracy: 0.9918\n",
            "Epoch 13/20\n",
            "468/468 [==============================] - 18s 38ms/step - loss: 0.0148 - accuracy: 0.9951 - val_loss: 0.0225 - val_accuracy: 0.9928\n",
            "Epoch 14/20\n",
            "468/468 [==============================] - 17s 37ms/step - loss: 0.0163 - accuracy: 0.9947 - val_loss: 0.0146 - val_accuracy: 0.9951\n",
            "Epoch 15/20\n",
            "468/468 [==============================] - 18s 39ms/step - loss: 0.0138 - accuracy: 0.9956 - val_loss: 0.0157 - val_accuracy: 0.9951\n",
            "Epoch 16/20\n",
            "468/468 [==============================] - 18s 38ms/step - loss: 0.0138 - accuracy: 0.9957 - val_loss: 0.0133 - val_accuracy: 0.9959\n",
            "Epoch 17/20\n",
            "468/468 [==============================] - 17s 37ms/step - loss: 0.0127 - accuracy: 0.9958 - val_loss: 0.0160 - val_accuracy: 0.9953\n",
            "Epoch 18/20\n",
            "468/468 [==============================] - 18s 38ms/step - loss: 0.0129 - accuracy: 0.9956 - val_loss: 0.0181 - val_accuracy: 0.9949\n",
            "Epoch 19/20\n",
            "468/468 [==============================] - 18s 38ms/step - loss: 0.0118 - accuracy: 0.9962 - val_loss: 0.0194 - val_accuracy: 0.9939\n",
            "Epoch 20/20\n",
            "468/468 [==============================] - 18s 38ms/step - loss: 0.0124 - accuracy: 0.9959 - val_loss: 0.0418 - val_accuracy: 0.9875\n"
          ],
          "name": "stdout"
        }
      ]
    },
    {
      "cell_type": "code",
      "metadata": {
        "colab": {
          "base_uri": "https://localhost:8080/",
          "height": 449
        },
        "id": "Cvcy1extAg2u",
        "outputId": "bcfa9ea0-905f-4606-f35e-57b8a42421bf"
      },
      "source": [
        "plt.plot(history.history['loss'])\r\n",
        "plt.plot(history.history['val_loss'])\r\n",
        "plt.title('Model loss')\r\n",
        "plt.ylabel('Loss')\r\n",
        "plt.xlabel('Epoch')\r\n",
        "plt.legend(['Train', 'Val'], loc='upper right')\r\n",
        "plt.show()"
      ],
      "execution_count": 61,
      "outputs": [
        {
          "output_type": "display_data",
          "data": {
            "image/png": "[encoded data removed]",
            "text/plain": [
              "<Figure size 432x288 with 1 Axes>"
            ]
          },
          "metadata": {
            "tags": [],
            "needs_background": "light"
          }
        }
      ]
    },
    {
      "cell_type": "code",
      "metadata": {
        "colab": {
          "base_uri": "https://localhost:8080/",
          "height": 449
        },
        "id": "QKg98D50Ci73",
        "outputId": "959ae65c-6f66-440b-a8c0-40fc3027cff4"
      },
      "source": [
        "plt.plot(history.history['accuracy'])\r\n",
        "plt.plot(history.history['val_accuracy'])\r\n",
        "plt.title('Model accuracy')\r\n",
        "plt.ylabel('Accuracy')\r\n",
        "plt.xlabel('Epoch')\r\n",
        "plt.legend(['Train', 'Val'], loc='lower right')\r\n",
        "plt.show()"
      ],
      "execution_count": 62,
      "outputs": [
        {
          "output_type": "display_data",
          "data": {
            "image/png": "[encoded data removed]",
            "text/plain": [
              "<Figure size 432x288 with 1 Axes>"
            ]
          },
          "metadata": {
            "tags": [],
            "needs_background": "light"
          }
        }
      ]
    },
    {
      "cell_type": "code",
      "metadata": {
        "id": "A10KL4CaCz8_"
      },
      "source": [
        ""
      ],
      "execution_count": null,
      "outputs": []
    }
  ]
}