{
  "nbformat": 4,
  "nbformat_minor": 0,
  "metadata": {
    "colab": {
      "name": "Day13_Quiz.ipynb",
      "provenance": []
    },
    "kernelspec": {
      "name": "python3",
      "display_name": "Python 3"
    }
  },
  "cells": [
    {
      "cell_type": "code",
      "metadata": {
        "id": "cg2wiYuoG1W2"
      },
      "source": [
        "import numpy as np"
      ],
      "execution_count": 8,
      "outputs": []
    },
    {
      "cell_type": "markdown",
      "metadata": {
        "id": "hnEHncXuIWG1"
      },
      "source": [
        "# 1st SET"
      ]
    },
    {
      "cell_type": "markdown",
      "metadata": {
        "id": "VapegvdiG7Pu"
      },
      "source": [
        "## 1.Find Mean of the list"
      ]
    },
    {
      "cell_type": "code",
      "metadata": {
        "id": "QGfxgZc-G47E"
      },
      "source": [
        "array1=np.array([10,20,50,70,90,110,15,66,20,33]) #list for Quiz 1-5"
      ],
      "execution_count": 10,
      "outputs": []
    },
    {
      "cell_type": "code",
      "metadata": {
        "colab": {
          "base_uri": "https://localhost:8080/"
        },
        "id": "2n3Mz8rZHWUc",
        "outputId": "5ee2d755-d9a7-42ce-dee3-386c154b5f76"
      },
      "source": [
        "array1.mean()"
      ],
      "execution_count": 11,
      "outputs": [
        {
          "output_type": "execute_result",
          "data": {
            "text/plain": [
              "48.4"
            ]
          },
          "metadata": {
            "tags": []
          },
          "execution_count": 11
        }
      ]
    },
    {
      "cell_type": "markdown",
      "metadata": {
        "id": "Xd8a7kG4Hb8A"
      },
      "source": [
        "## 2. Find Mode"
      ]
    },
    {
      "cell_type": "code",
      "metadata": {
        "id": "oA20kMRIH0nc"
      },
      "source": [
        "from scipy import stats"
      ],
      "execution_count": 13,
      "outputs": []
    },
    {
      "cell_type": "code",
      "metadata": {
        "colab": {
          "base_uri": "https://localhost:8080/"
        },
        "id": "5F9sB6FoHWj0",
        "outputId": "2839889c-d871-4e06-fb68-19a4d6e17211"
      },
      "source": [
        "stats.mode(array1)"
      ],
      "execution_count": 15,
      "outputs": [
        {
          "output_type": "execute_result",
          "data": {
            "text/plain": [
              "ModeResult(mode=array([20]), count=array([2]))"
            ]
          },
          "metadata": {
            "tags": []
          },
          "execution_count": 15
        }
      ]
    },
    {
      "cell_type": "markdown",
      "metadata": {
        "id": "yp78Tw1BH8md"
      },
      "source": [
        "## 3. Find Median"
      ]
    },
    {
      "cell_type": "code",
      "metadata": {
        "colab": {
          "base_uri": "https://localhost:8080/"
        },
        "id": "2CrcUTOMH74I",
        "outputId": "8c144f09-77fc-4e7a-f6c8-36853a896b7d"
      },
      "source": [
        "np.median(array1)"
      ],
      "execution_count": 20,
      "outputs": [
        {
          "output_type": "execute_result",
          "data": {
            "text/plain": [
              "41.5"
            ]
          },
          "metadata": {
            "tags": []
          },
          "execution_count": 20
        }
      ]
    },
    {
      "cell_type": "markdown",
      "metadata": {
        "id": "3haSOmFRIgJN"
      },
      "source": [
        "## 4. Variance"
      ]
    },
    {
      "cell_type": "code",
      "metadata": {
        "colab": {
          "base_uri": "https://localhost:8080/"
        },
        "id": "pcwG4Gw4Ifol",
        "outputId": "dedb722c-b489-4f09-e538-3d9175cb9d7c"
      },
      "source": [
        "np.std(array1)**2"
      ],
      "execution_count": 22,
      "outputs": [
        {
          "output_type": "execute_result",
          "data": {
            "text/plain": [
              "1074.4400000000003"
            ]
          },
          "metadata": {
            "tags": []
          },
          "execution_count": 22
        }
      ]
    },
    {
      "cell_type": "markdown",
      "metadata": {
        "id": "r3ztjo-WIqCF"
      },
      "source": [
        "## 5. Find STD"
      ]
    },
    {
      "cell_type": "code",
      "metadata": {
        "colab": {
          "base_uri": "https://localhost:8080/"
        },
        "id": "XzpBiygTItnu",
        "outputId": "015cee70-997e-4390-8b09-4c45ddb0dc7a"
      },
      "source": [
        "np.std(array1)"
      ],
      "execution_count": 23,
      "outputs": [
        {
          "output_type": "execute_result",
          "data": {
            "text/plain": [
              "32.77865158910598"
            ]
          },
          "metadata": {
            "tags": []
          },
          "execution_count": 23
        }
      ]
    },
    {
      "cell_type": "markdown",
      "metadata": {
        "id": "c_Vg1lxVIbQF"
      },
      "source": [
        "# 2nd SET"
      ]
    },
    {
      "cell_type": "code",
      "metadata": {
        "id": "qYlSUmmPIc8g"
      },
      "source": [
        "array1=np.array([10,20,50,70,90,110,15,66,20,33]) #list for Quiz 6-9\n",
        "array2=np.array([33,16,73,44,67,134,99,11,13,16]) "
      ],
      "execution_count": 26,
      "outputs": []
    },
    {
      "cell_type": "markdown",
      "metadata": {
        "id": "fKvgw-C-JBFI"
      },
      "source": [
        "## 6. Find Mean Mode Median Variance STD"
      ]
    },
    {
      "cell_type": "code",
      "metadata": {
        "id": "rIUsfDdbJjD6"
      },
      "source": [
        "mean1  =array1.mean()\n",
        "mode1  =stats.mode(array1)\n",
        "median1=np.median(array1)\n",
        "var1   =np.std(array1)**2\n",
        "std1   =np.std(array1)"
      ],
      "execution_count": 27,
      "outputs": []
    },
    {
      "cell_type": "code",
      "metadata": {
        "id": "qYMOHUMpJAyN"
      },
      "source": [
        "mean2  =array2.mean()\n",
        "mode2  =stats.mode(array2)\n",
        "median2=np.median(array2)\n",
        "var2   =np.std(array2)**2\n",
        "std2   =np.std(array2)"
      ],
      "execution_count": 28,
      "outputs": []
    },
    {
      "cell_type": "markdown",
      "metadata": {
        "id": "EJRLOUcJJw6Y"
      },
      "source": [
        "## 7. Find Coefficient of Variation"
      ]
    },
    {
      "cell_type": "code",
      "metadata": {
        "colab": {
          "base_uri": "https://localhost:8080/"
        },
        "id": "6upCO2XuJwg8",
        "outputId": "dbe852c5-f7a5-498b-fe5a-0a2e8f62b1cc"
      },
      "source": [
        "cov1 = std1/mean1\n",
        "cov2 = std2/mean2\n",
        "print(\"This is Coefficient of Variation of 1st list:\",cov1)\n",
        "print(\"This is Coefficient of Variation of 2nd list:\",cov2)"
      ],
      "execution_count": 30,
      "outputs": [
        {
          "output_type": "stream",
          "text": [
            "This is Coefficient of Variation of 1st list: 0.6772448675435121\n",
            "This is Coefficient of Variation of 2nd list: 0.7855178094728643\n"
          ],
          "name": "stdout"
        }
      ]
    },
    {
      "cell_type": "markdown",
      "metadata": {
        "id": "bTheuxYVKUb7"
      },
      "source": [
        "## 8. Find Covariance in the case of 1st list and 2nd list is the relation"
      ]
    },
    {
      "cell_type": "code",
      "metadata": {
        "colab": {
          "base_uri": "https://localhost:8080/"
        },
        "id": "mqbBUeXRKiy-",
        "outputId": "0b28adea-9c75-41db-9616-be27fd8c3d46"
      },
      "source": [
        "cov=np.cov(array1,array2,bias=True)[0][1]\n",
        "print(\"This is the covariance:\",cov)"
      ],
      "execution_count": 41,
      "outputs": [
        {
          "output_type": "stream",
          "text": [
            "This is the covariance: 665.8600000000001\n"
          ],
          "name": "stdout"
        }
      ]
    },
    {
      "cell_type": "code",
      "metadata": {
        "colab": {
          "base_uri": "https://localhost:8080/"
        },
        "id": "A1mM8EFMM1pU",
        "outputId": "44ecf0cb-4ad5-4ce3-d163-c8a8cc7c0b34"
      },
      "source": [
        "x=array1-mean1\n",
        "y=array2-mean2\n",
        "np.sum(x*y)/10"
      ],
      "execution_count": 40,
      "outputs": [
        {
          "output_type": "execute_result",
          "data": {
            "text/plain": [
              "665.86"
            ]
          },
          "metadata": {
            "tags": []
          },
          "execution_count": 40
        }
      ]
    },
    {
      "cell_type": "markdown",
      "metadata": {
        "id": "TPrAWZfLNnQr"
      },
      "source": [
        "## 9. Find Correlation Coefficient"
      ]
    },
    {
      "cell_type": "code",
      "metadata": {
        "colab": {
          "base_uri": "https://localhost:8080/"
        },
        "id": "v9QtEKb8NsOW",
        "outputId": "ed3533fd-24b4-4cae-f5b2-26b04a193172"
      },
      "source": [
        "correlation_coefficient=cov/(std1*std2)\n",
        "print(\"This is the correlation coefficient:\",correlation_coefficient)"
      ],
      "execution_count": 42,
      "outputs": [
        {
          "output_type": "stream",
          "text": [
            "This is the correlation coefficient: 0.5110757675891154\n"
          ],
          "name": "stdout"
        }
      ]
    },
    {
      "cell_type": "markdown",
      "metadata": {
        "id": "ezFISmopOKg7"
      },
      "source": [
        "# 3rd SET"
      ]
    },
    {
      "cell_type": "code",
      "metadata": {
        "id": "WmsB-CDqEhBu"
      },
      "source": [
        "#list for Quiz 10-12\n",
        "array1=np.array([35.54,49.93,58.09,21.47,30.64,44.78,40.64,51.1,34.77,40.77,43.62,46.72,43.69,34.47,41.49,47.67,24.97,38.58,48.97,39.67,44.29,42.56,48.26,37.1,22.28,39.2,45.73,39.13,32.91,46.75])"
      ],
      "execution_count": 59,
      "outputs": []
    },
    {
      "cell_type": "markdown",
      "metadata": {
        "id": "bAL8UpMdOWi0"
      },
      "source": [
        "## 10. Find Mean and STD"
      ]
    },
    {
      "cell_type": "code",
      "metadata": {
        "id": "k7Y1PrXvOa2I"
      },
      "source": [
        "mean=array1.mean()"
      ],
      "execution_count": 60,
      "outputs": []
    },
    {
      "cell_type": "code",
      "metadata": {
        "id": "Bn4WhdqJOeH4"
      },
      "source": [
        "std=np.std(array1)"
      ],
      "execution_count": 61,
      "outputs": []
    },
    {
      "cell_type": "code",
      "metadata": {
        "colab": {
          "base_uri": "https://localhost:8080/"
        },
        "id": "ktJbAHsvOh6-",
        "outputId": "20c718d6-717c-46d4-a9d7-0d676a64d2b3"
      },
      "source": [
        "print(\"This is the mean of this list:\",mean)\n",
        "print(\"This is the std of this list:\",std)"
      ],
      "execution_count": 62,
      "outputs": [
        {
          "output_type": "stream",
          "text": [
            "This is the mean of this list: 40.52633333333334\n",
            "This is the std of this list: 8.287476690096263\n"
          ],
          "name": "stdout"
        }
      ]
    },
    {
      "cell_type": "markdown",
      "metadata": {
        "id": "Tj1-0cv6Os34"
      },
      "source": [
        "## 11. Standardize the data"
      ]
    },
    {
      "cell_type": "code",
      "metadata": {
        "id": "CdxBFxWHErrC"
      },
      "source": [
        "z=(n-mean)/std"
      ],
      "execution_count": 63,
      "outputs": []
    },
    {
      "cell_type": "code",
      "metadata": {
        "colab": {
          "base_uri": "https://localhost:8080/"
        },
        "id": "X_PXVgA0Ez6n",
        "outputId": "d773716a-7d06-4223-b3bd-bad5e240bb56"
      },
      "source": [
        "print(\"This is the data before standardization:\",array1)\n",
        "print(\"This is the data after standardization:\",z)"
      ],
      "execution_count": 64,
      "outputs": [
        {
          "output_type": "stream",
          "text": [
            "This is the data before standardization: [35.54 49.93 58.09 21.47 30.64 44.78 40.64 51.1  34.77 40.77 43.62 46.72\n",
            " 43.69 34.47 41.49 47.67 24.97 38.58 48.97 39.67 44.29 42.56 48.26 37.1\n",
            " 22.28 39.2  45.73 39.13 32.91 46.75]\n",
            "This is the data after standardization: [-0.60167087  1.13468394  2.11930209 -2.2994132  -1.19292442  0.51326439\n",
            "  0.01371547  1.2758608  -0.69458214  0.02940179  0.37329416  0.74735253\n",
            "  0.38174064 -0.73078134  0.11627986  0.86198332 -1.87708924 -0.23485234\n",
            "  1.01884651 -0.1033286   0.45413904  0.24539033  0.93317507 -0.41343505\n",
            " -2.20167537 -0.16004067  0.62789518 -0.16848715 -0.91901717  0.75097245]\n"
          ],
          "name": "stdout"
        }
      ]
    },
    {
      "cell_type": "markdown",
      "metadata": {
        "id": "rbOOxjbiPTWf"
      },
      "source": [
        "## 12. Plot graph"
      ]
    },
    {
      "cell_type": "code",
      "metadata": {
        "id": "tkP3oVK5FBz9"
      },
      "source": [
        "import numpy as np \n",
        "from matplotlib import pyplot as plt "
      ],
      "execution_count": 65,
      "outputs": []
    },
    {
      "cell_type": "code",
      "metadata": {
        "colab": {
          "base_uri": "https://localhost:8080/",
          "height": 560
        },
        "id": "-U-GC4M0PeqK",
        "outputId": "d020b9b8-c4d9-49c5-b126-c0cfb33a8d2c"
      },
      "source": [
        "plt.hist(z,bins=20)"
      ],
      "execution_count": 68,
      "outputs": [
        {
          "output_type": "execute_result",
          "data": {
            "text/plain": [
              "(array([2., 1., 0., 0., 0., 1., 1., 3., 1., 4., 3., 1., 4., 3., 2., 2., 1.,\n",
              "        0., 0., 1.]),\n",
              " array([-2.2994132 , -2.07847744, -1.85754168, -1.63660591, -1.41567015,\n",
              "        -1.19473438, -0.97379862, -0.75286285, -0.53192709, -0.31099132,\n",
              "        -0.09005556,  0.13088021,  0.35181597,  0.57275174,  0.7936875 ,\n",
              "         1.01462327,  1.23555903,  1.4564948 ,  1.67743056,  1.89836632,\n",
              "         2.11930209]),\n",
              " <a list of 20 Patch objects>)"
            ]
          },
          "metadata": {
            "tags": []
          },
          "execution_count": 68
        },
        {
          "output_type": "display_data",
          "data": {
            "image/png": "[encoded data removed]",
            "text/plain": [
              "<Figure size 432x288 with 1 Axes>"
            ]
          },
          "metadata": {
            "tags": [],
            "needs_background": "light"
          }
        }
      ]
    },
    {
      "cell_type": "markdown",
      "metadata": {
        "id": "wpgQm5lqQQrJ"
      },
      "source": [
        "# 4th SET"
      ]
    },
    {
      "cell_type": "code",
      "metadata": {
        "id": "Ak59C7N9PhVC"
      },
      "source": [
        "#list for Quiz 13-15\n",
        "array1=np.array([42690.64,42325.34,64971.4,35967.86,53694.28,43309.04,36018.4,29007.55,47506.85,77279.74])"
      ],
      "execution_count": 57,
      "outputs": []
    },
    {
      "cell_type": "markdown",
      "metadata": {
        "id": "B0kGZVhBQ1Nz"
      },
      "source": [
        "## 13. Find Mean and STD"
      ]
    },
    {
      "cell_type": "code",
      "metadata": {
        "colab": {
          "base_uri": "https://localhost:8080/"
        },
        "id": "Av2qmKDtQs_1",
        "outputId": "a060f1ed-8420-4680-abef-0b3f62087848"
      },
      "source": [
        "mean_4=array1.mean()\n",
        "std_4=np.std(array1)\n",
        "print(\"This is the mean of this list:\",mean_4)\n",
        "print(\"This is the std of this list:\",std_4)"
      ],
      "execution_count": 58,
      "outputs": [
        {
          "output_type": "stream",
          "text": [
            "This is the mean of this list: 47277.11\n",
            "This is the std of this list: 13799.3274420763\n"
          ],
          "name": "stdout"
        }
      ]
    },
    {
      "cell_type": "markdown",
      "metadata": {
        "id": "O1zgN_aOQ0kV"
      },
      "source": [
        "##14. Find T-score of 90% confidence interval"
      ]
    },
    {
      "cell_type": "code",
      "metadata": {
        "colab": {
          "base_uri": "https://localhost:8080/"
        },
        "id": "CzI3spCzRPKT",
        "outputId": "c540ed6d-8e63-4f73-fd72-9bf43c277f1f"
      },
      "source": [
        "n=10\n",
        "alpha_2=(100-90)/(2*100)\n",
        "print(n)\n",
        "print(alpha_2)"
      ],
      "execution_count": 71,
      "outputs": [
        {
          "output_type": "stream",
          "text": [
            "10\n",
            "0.05\n"
          ],
          "name": "stdout"
        }
      ]
    },
    {
      "cell_type": "code",
      "metadata": {
        "colab": {
          "base_uri": "https://localhost:8080/"
        },
        "id": "f5GaLi8kfy8h",
        "outputId": "9c0263c8-f818-47fd-d2d0-8431fa0617a5"
      },
      "source": [
        "t_score_90_10=1.833113\n",
        "print(\"T-score of 90% confidence interval for 10 points of data:\",t_score_90_10)"
      ],
      "execution_count": 74,
      "outputs": [
        {
          "output_type": "stream",
          "text": [
            "T-score of 90% confidence interval for 10 points of data: 1.833113\n"
          ],
          "name": "stdout"
        }
      ]
    },
    {
      "cell_type": "markdown",
      "metadata": {
        "id": "Et9hPmLsRR2e"
      },
      "source": [
        "## 15. Find 90% and 95% of Confidence interval\n"
      ]
    },
    {
      "cell_type": "code",
      "metadata": {
        "id": "SnFnjyn9RYl-"
      },
      "source": [
        "t_score_95_10=2.262160\n",
        "t_score_90_10=1.833113"
      ],
      "execution_count": 75,
      "outputs": []
    },
    {
      "cell_type": "code",
      "metadata": {
        "colab": {
          "base_uri": "https://localhost:8080/"
        },
        "id": "ft06e44XgRX4",
        "outputId": "248542fa-f38a-4084-d4f1-4a23d1ec1702"
      },
      "source": [
        "lower_90=mean_4-(t_score_90_10*std_4/(10**(1/2)))\n",
        "upper_90=mean_4+(t_score_90_10*std_4/(10**(1/2)))\n",
        "print(\"90% Confidence interval is between\",lower_90,\" to\",upper_90)"
      ],
      "execution_count": 76,
      "outputs": [
        {
          "output_type": "stream",
          "text": [
            "90% Confidence interval is between 39277.89891112303  to 55276.32108887697\n"
          ],
          "name": "stdout"
        }
      ]
    },
    {
      "cell_type": "code",
      "metadata": {
        "colab": {
          "base_uri": "https://localhost:8080/"
        },
        "id": "NGCEIIdqg8RU",
        "outputId": "6c1dc679-33ce-4ae8-cc89-fc9cff3e9c70"
      },
      "source": [
        "lower_95=mean_4-(t_score_95_10*std_4/(10**(1/2)))\n",
        "upper_95=mean_4+(t_score_95_10*std_4/(10**(1/2)))\n",
        "print(\"95% Confidence interval is between\",lower_95,\" to\",upper_95)"
      ],
      "execution_count": 77,
      "outputs": [
        {
          "output_type": "stream",
          "text": [
            "95% Confidence interval is between 37405.653435776236  to 57148.566564223765\n"
          ],
          "name": "stdout"
        }
      ]
    },
    {
      "cell_type": "markdown",
      "metadata": {
        "id": "HRgqiz1LhJI_"
      },
      "source": [
        "# 5th SET"
      ]
    },
    {
      "cell_type": "code",
      "metadata": {
        "id": "RHbKhPTRhKrJ"
      },
      "source": [
        "#list for Quiz 16-18\n",
        "array1=np.array([81469,87531.77,75745.76,84907.66,91575.27,91222.62,80216.58,93699.6,95481.35,95482.59])"
      ],
      "execution_count": 82,
      "outputs": []
    },
    {
      "cell_type": "markdown",
      "metadata": {
        "id": "84QzJ73ghtkB"
      },
      "source": [
        "## 16. Find Mean"
      ]
    },
    {
      "cell_type": "code",
      "metadata": {
        "colab": {
          "base_uri": "https://localhost:8080/"
        },
        "id": "lnVFhRQ1hgVI",
        "outputId": "1daba180-fc24-4487-d5fb-31bb587f62ff"
      },
      "source": [
        "mean_5=array1.mean()\n",
        "print(\"This is the mean of Thai dentist's salary:\",mean_5)"
      ],
      "execution_count": 84,
      "outputs": [
        {
          "output_type": "stream",
          "text": [
            "This is the mean of Thai dentist's salary: 87733.22\n"
          ],
          "name": "stdout"
        }
      ]
    },
    {
      "cell_type": "markdown",
      "metadata": {
        "id": "XbIw7Qysh_WW"
      },
      "source": [
        "## 17. Find Z-Score for 90% Confidence Interval"
      ]
    },
    {
      "cell_type": "code",
      "metadata": {
        "id": "gFrpCTNehzUE"
      },
      "source": [
        "z_score_90_10=1.645"
      ],
      "execution_count": 85,
      "outputs": []
    },
    {
      "cell_type": "markdown",
      "metadata": {
        "id": "wNTH4BnNjA_7"
      },
      "source": [
        "## 18. Find 90% and 95% Confidence Interval"
      ]
    },
    {
      "cell_type": "code",
      "metadata": {
        "id": "YQdoKDj1i_gq"
      },
      "source": [
        "z_score_90_10=1.645\n",
        "z_score_95_10=1.960"
      ],
      "execution_count": 86,
      "outputs": []
    },
    {
      "cell_type": "code",
      "metadata": {
        "id": "O0mT_wPCjl0C"
      },
      "source": [
        "std_5=7900"
      ],
      "execution_count": 88,
      "outputs": []
    },
    {
      "cell_type": "code",
      "metadata": {
        "colab": {
          "base_uri": "https://localhost:8080/"
        },
        "id": "7xwM_GCUjdMR",
        "outputId": "2be0b8b8-4af5-498b-a4cb-06f297e87ab0"
      },
      "source": [
        "lower_90=mean_5-(z_score_90_10*std_5/(10**(1/2)))\n",
        "upper_90=mean_5+(z_score_90_10*std_5/(10**(1/2)))\n",
        "print(\"90% Confidence interval is between\",lower_90,\" to\",upper_90)"
      ],
      "execution_count": 89,
      "outputs": [
        {
          "output_type": "stream",
          "text": [
            "90% Confidence interval is between 83623.68206672819  to 91842.75793327182\n"
          ],
          "name": "stdout"
        }
      ]
    },
    {
      "cell_type": "code",
      "metadata": {
        "colab": {
          "base_uri": "https://localhost:8080/"
        },
        "id": "KpGsiFdpj1fa",
        "outputId": "15a1a06a-8891-4399-ba7c-fcfe13492642"
      },
      "source": [
        "lower_95=mean_5-(z_score_95_10*std_5/(10**(1/2)))\n",
        "upper_95=mean_5+(z_score_95_10*std_5/(10**(1/2)))\n",
        "print(\"95% Confidence interval is between\",lower_95,\" to\",upper_95)"
      ],
      "execution_count": 90,
      "outputs": [
        {
          "output_type": "stream",
          "text": [
            "95% Confidence interval is between 82836.74927099528  to 92629.69072900472\n"
          ],
          "name": "stdout"
        }
      ]
    }
  ]
}