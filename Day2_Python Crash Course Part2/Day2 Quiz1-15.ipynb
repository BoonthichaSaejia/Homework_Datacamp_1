{
 "cells": [
  {
   "cell_type": "markdown",
   "metadata": {},
   "source": [
    "# QUIZ Day2 : Python Crash Course Part 2"
   ]
  },
  {
   "cell_type": "markdown",
   "metadata": {},
   "source": [
    "### Quiz1"
   ]
  },
  {
   "cell_type": "code",
   "execution_count": 2,
   "metadata": {},
   "outputs": [
    {
     "name": "stdout",
     "output_type": "stream",
     "text": [
      "Put your number: 34\n",
      "เลขคู่\n",
      "Put your number: 45\n",
      "เลขคี่\n",
      "Put your number: 0\n",
      "เลขศูนย์\n"
     ]
    }
   ],
   "source": [
    "count1=0\n",
    "while count1 !=3:\n",
    "    number1=int(input('Put your number: '))\n",
    "    if number1 ==0:\n",
    "        print('เลขศูนย์')\n",
    "    elif number1%2 ==0:\n",
    "        print('เลขคู่')\n",
    "    else : \n",
    "        print('เลขคี่')\n",
    "    count1 +=1"
   ]
  },
  {
   "cell_type": "markdown",
   "metadata": {},
   "source": [
    "### Quiz2"
   ]
  },
  {
   "cell_type": "code",
   "execution_count": 3,
   "metadata": {},
   "outputs": [
    {
     "name": "stdout",
     "output_type": "stream",
     "text": [
      "Put your dividend:45\n",
      "Put your divisor:0\n",
      "Put your divisor:0\n",
      "Put your divisor:56\n",
      "0.8035714285714286\n"
     ]
    }
   ],
   "source": [
    "dividend=float(input('Put your dividend:'))\n",
    "divisor=0\n",
    "while divisor == 0:\n",
    "    divisor=float(input('Put your divisor:'))\n",
    "print(dividend/divisor)"
   ]
  },
  {
   "cell_type": "markdown",
   "metadata": {},
   "source": [
    "### Quiz3"
   ]
  },
  {
   "cell_type": "code",
   "execution_count": 12,
   "metadata": {},
   "outputs": [
    {
     "name": "stdout",
     "output_type": "stream",
     "text": [
      "Put your number:50.6\n",
      "Put your number:69.7\n",
      "Put your number:53.0\n",
      "Put your number:35.6\n",
      "Put your number:0\n",
      "52.225\n"
     ]
    }
   ],
   "source": [
    "a=1\n",
    "sum1=0\n",
    "count=-1\n",
    "\n",
    "while a != 0:\n",
    "    a = float(input('Put your number:'))\n",
    "    sum1+=a\n",
    "    count+=1\n",
    "    \n",
    "print(sum1/count)"
   ]
  },
  {
   "cell_type": "markdown",
   "metadata": {},
   "source": [
    "### Quiz4"
   ]
  },
  {
   "cell_type": "code",
   "execution_count": 18,
   "metadata": {},
   "outputs": [
    {
     "name": "stdout",
     "output_type": "stream",
     "text": [
      "Put your number: 45\n",
      "หาร7ไม่ลงตัว\n",
      "Put your number: 89\n",
      "หาร7ไม่ลงตัว\n",
      "Put your number: 28\n",
      "หาร7ลงตัว\n"
     ]
    }
   ],
   "source": [
    "count1=0\n",
    "while count1 !=3:\n",
    "    number1=int(input('Put your number: '))\n",
    "    if number1%7 ==0:\n",
    "        print('หาร7ลงตัว')\n",
    "    else : \n",
    "        print('หาร7ไม่ลงตัว')\n",
    "    count1 +=1"
   ]
  },
  {
   "cell_type": "markdown",
   "metadata": {},
   "source": [
    "### Quiz5"
   ]
  },
  {
   "cell_type": "code",
   "execution_count": 20,
   "metadata": {},
   "outputs": [
    {
     "name": "stdout",
     "output_type": "stream",
     "text": [
      "โปรแกรมนี้จะช่วยคำนวณว่าความยาวของแต่ละด้านจะสามารถสร้างสามเหลี่ยมมุมฉากได้หรือไม่\n",
      "โดย a เป็นความยาวด้านที่ยาวที่สุด ส่วน b และ c คือความยาวด้านที่เหลือ\n",
      "Put the length of a:7\n",
      "Put the length of b:4\n",
      "Put the length of c:3\n",
      "นี่ไม่ใช่สามเหลี่ยมมุมฉาก\n"
     ]
    }
   ],
   "source": [
    "print(\"โปรแกรมนี้จะช่วยคำนวณว่าความยาวของแต่ละด้านจะสามารถสร้างสามเหลี่ยมมุมฉากได้หรือไม่\")\n",
    "print(\"โดย a เป็นความยาวด้านที่ยาวที่สุด ส่วน b และ c คือความยาวด้านที่เหลือ\")\n",
    "a=int(input('Put the length of a:'))\n",
    "b=int(input('Put the length of b:'))\n",
    "c=int(input('Put the length of c:'))\n",
    "\n",
    "if a**2 == b**2 + c**2:\n",
    "    print('นี่คือสามเหลี่ยมมุมฉาก')\n",
    "else:\n",
    "    print('นี่ไม่ใช่สามเหลี่ยมมุมฉาก')\n",
    "\n"
   ]
  },
  {
   "cell_type": "markdown",
   "metadata": {},
   "source": [
    "### Quiz6"
   ]
  },
  {
   "cell_type": "code",
   "execution_count": 27,
   "metadata": {},
   "outputs": [
    {
     "name": "stdout",
     "output_type": "stream",
     "text": [
      "โปรแกรมนี้จะช่วยคำนวณว่าความยาวของแต่ละด้านจะสามารถสร้างสามเหลี่ยมแบบใดได้\n",
      "โดย a เป็นความยาวด้านที่ยาวที่สุด ส่วน b และ c คือความยาวด้านที่เหลือ\n",
      "Put the length of a:13\n",
      "Put the length of b:12\n",
      "Put the length of c:5\n",
      "นี่คือสามเหลี่ยมมุมฉาก\n"
     ]
    }
   ],
   "source": [
    "print(\"โปรแกรมนี้จะช่วยคำนวณว่าความยาวของแต่ละด้านจะสามารถสร้างสามเหลี่ยมแบบใดได้\")\n",
    "print(\"โดย a เป็นความยาวด้านที่ยาวที่สุด ส่วน b และ c คือความยาวด้านที่เหลือ\")\n",
    "a=int(input('Put the length of a:'))\n",
    "b=int(input('Put the length of b:'))\n",
    "c=int(input('Put the length of c:'))\n",
    "if a+b>c and a+c>b and b+c>a:\n",
    "    if a**2 == b**2 + c**2:\n",
    "        print('นี่คือสามเหลี่ยมมุมฉาก')\n",
    "    elif a**2 < b**2 + c**2:\n",
    "        print('นี่คือสามเหลี่ยมมุมป้าน')\n",
    "    else:\n",
    "        print('นี่ไม่ใช่สามเหลี่ยมมุมแหลม')\n",
    "else: \n",
    "    print('นี่ไม่ใช่สามเหลี่ยม')\n"
   ]
  },
  {
   "cell_type": "markdown",
   "metadata": {},
   "source": [
    "### Quiz7"
   ]
  },
  {
   "cell_type": "code",
   "execution_count": 31,
   "metadata": {},
   "outputs": [
    {
     "name": "stdout",
     "output_type": "stream",
     "text": [
      "Put your 1st food expense:4000\n",
      "Put your 2nd food expense:4500\n",
      "Put your 3rd food expense:4900\n",
      "You got 25% discount and the total is 10050.0\n"
     ]
    }
   ],
   "source": [
    "pay_1=0\n",
    "pay_2=0\n",
    "pay_3=0\n",
    "\n",
    "while pay_1<1000 or pay_1>5000:\n",
    "    pay_1 = float(input('Put your 1st food expense:'))\n",
    "while pay_2<1000 or pay_2>5000:\n",
    "    pay_2 = float(input('Put your 2nd food expense:'))\n",
    "while pay_3<1000 or pay_3>5000:\n",
    "    pay_3 = float(input('Put your 3rd food expense:'))\n",
    "\n",
    "sum_pay=pay_1+pay_2+pay_3\n",
    "if sum_pay>12000:\n",
    "    total_pay=sum_pay*0.75\n",
    "    print('You got 25% discount and the total is',total_pay)\n",
    "elif sum_pay>6000:\n",
    "    total_pay=sum_pay*0.85\n",
    "    print('You got 15% discount and the total is',total_pay)\n",
    "else:\n",
    "    total_pay=sum_pay*1\n",
    "    print('You got no discount and the total is',total_pay)\n"
   ]
  },
  {
   "cell_type": "markdown",
   "metadata": {},
   "source": [
    "### Quiz8"
   ]
  },
  {
   "cell_type": "code",
   "execution_count": 33,
   "metadata": {},
   "outputs": [
    {
     "name": "stdout",
     "output_type": "stream",
     "text": [
      "Put your 1st food expense[1000-5000]:4000\n",
      "Put your 2nd food expense[1000-5000]:4600\n",
      "Put your 3rd food expense[1000-5000]:4900\n",
      "Put your 4th food expense[1000-5000]:3000\n",
      "You got 25% discount in the 4th meal and the total is 2250.0\n"
     ]
    }
   ],
   "source": [
    "\n",
    "pay8_1 = float(input('Put your 1st food expense[1000-5000]:'))\n",
    "pay8_2 = float(input('Put your 2nd food expense[1000-5000]:'))\n",
    "pay8_3 = float(input('Put your 3rd food expense[1000-5000]:'))\n",
    "pay8_4 = float(input('Put your 4th food expense[1000-5000]:'))\n",
    "\n",
    "sum8_pay=pay8_1+pay8_2+pay8_3\n",
    "if sum8_pay>12000:\n",
    "    total_pay_4=pay8_4*0.75\n",
    "    print('You got 25% discount in the 4th meal and the total is',total_pay_4)\n",
    "elif sum_pay>6000:\n",
    "    total_pay_4=pay8_4*0.85\n",
    "    print('You got 15% discount in the 4th meal and the total is',total_pay_4)\n",
    "else:\n",
    "    total_pay_4=pay8_4*1\n",
    "    print('You got no discount in the 4th meal and the total is',total_pay_4)"
   ]
  },
  {
   "cell_type": "markdown",
   "metadata": {},
   "source": [
    "### Quiz9"
   ]
  },
  {
   "cell_type": "code",
   "execution_count": 36,
   "metadata": {},
   "outputs": [
    {
     "name": "stdout",
     "output_type": "stream",
     "text": [
      "Put your 1st food expense:1000\n",
      "Put your 2nd food expense:1000\n",
      "Put your 3rd food expense:1000\n",
      "Put your 4rd food expense:1000\n",
      "You got no discount in the 4th meal and the total is 1000.0\n"
     ]
    }
   ],
   "source": [
    "pay9_1=0\n",
    "pay9_2=0\n",
    "pay9_3=0\n",
    "pay9_4=0\n",
    "\n",
    "while pay9_1<1000 or pay9_1>5000:\n",
    "    pay9_1 = float(input('Put your 1st food expense:'))\n",
    "while pay9_2<1000 or pay9_2>5000:\n",
    "    pay9_2 = float(input('Put your 2nd food expense:'))\n",
    "while pay9_3<1000 or pay9_3>5000:\n",
    "    pay9_3 = float(input('Put your 3rd food expense:'))\n",
    "while pay9_4<1000 or pay9_4>5000:\n",
    "    pay9_4 = float(input('Put your 4rd food expense:'))\n",
    "\n",
    "sum9_pay=pay9_1+pay9_2+pay9_3\n",
    "if sum9_pay>9000:\n",
    "    total9_pay=pay9_4*0.70\n",
    "    print('You got 30% discount in the 4th meal and the total is',total9_pay)\n",
    "elif sum9_pay>4000:\n",
    "    total9_pay=pay9_4*0.75\n",
    "    print('You got 25% discount in the 4th meal and the total is',total9_pay)\n",
    "else:\n",
    "    total9_pay=pay9_4*1\n",
    "    print('You got no discount in the 4th meal and the total is',total9_pay)\n"
   ]
  },
  {
   "cell_type": "markdown",
   "metadata": {},
   "source": [
    "### Quiz10"
   ]
  },
  {
   "cell_type": "code",
   "execution_count": 37,
   "metadata": {},
   "outputs": [
    {
     "name": "stdout",
     "output_type": "stream",
     "text": [
      "Put your 1st food expense:4000\n",
      "Put your 2nd food expense:4000\n",
      "Put your 3rd food expense:4000\n",
      "Put your 4rd food expense:4000\n",
      "Do you want to pay with credit card? [True/False]:True\n",
      "The total is 2660.0\n"
     ]
    }
   ],
   "source": [
    "pay10_1=0\n",
    "pay10_2=0\n",
    "pay10_3=0\n",
    "pay10_4=0\n",
    "\n",
    "while pay10_1<1000 or pay10_1>5000:\n",
    "    pay10_1 = float(input('Put your 1st food expense:'))\n",
    "while pay10_2<1000 or pay10_2>5000:\n",
    "    pay10_2 = float(input('Put your 2nd food expense:'))\n",
    "while pay10_3<1000 or pay10_3>5000:\n",
    "    pay10_3 = float(input('Put your 3rd food expense:'))\n",
    "while pay10_4<1000 or pay10_4>5000:\n",
    "    pay10_4 = float(input('Put your 4rd food expense:'))\n",
    "    \n",
    "credit_card=input(\"Do you want to pay with credit card? [True/False]:\")\n",
    "\n",
    "sum10_pay=pay10_1+pay10_2+pay10_3\n",
    "if sum10_pay>9000:\n",
    "    pay4th=pay10_4*0.70\n",
    "elif sum10_pay>4000:\n",
    "    pay4th=pay10_4*0.75\n",
    "else:\n",
    "    pay4th=pay10_4*1\n",
    "\n",
    "if credit_card == 'True':\n",
    "    total_pay4th=pay4th*0.95\n",
    "    print(\"The total is\",total_pay4th)\n",
    "elif credit_card == 'False':\n",
    "    total_pay4th=pay4th*1\n",
    "    print(\"The total is\",total_pay4th)\n",
    "else:\n",
    "    print(\"Please try again\")\n",
    "    \n",
    "\n",
    "\n",
    "   \n"
   ]
  },
  {
   "cell_type": "markdown",
   "metadata": {},
   "source": [
    "### Quiz11"
   ]
  },
  {
   "cell_type": "code",
   "execution_count": 55,
   "metadata": {},
   "outputs": [
    {
     "name": "stdout",
     "output_type": "stream",
     "text": [
      "Put your word (more than 7 alphabets):gYjDcFGHjue\n",
      "['G', 'y', 'J', 'd', 'C', 'f', 'g', 'h', 'J', 'U', 'E']\n"
     ]
    }
   ],
   "source": [
    "word = input('Put your word (more than 7 alphabets):')\n",
    "count=len(word)\n",
    "lst=[]\n",
    "for i in range(count):\n",
    "    a=ord(word[i])\n",
    "    if a>=65 and a<=90:\n",
    "        a+=32\n",
    "        lst.append(chr(a))\n",
    "    elif a>=97 and a<=122:\n",
    "        a-=32\n",
    "        lst.append(chr(a))\n",
    "    else:\n",
    "        break\n",
    "print(lst)\n",
    "    "
   ]
  },
  {
   "cell_type": "markdown",
   "metadata": {},
   "source": [
    "### Quiz12"
   ]
  },
  {
   "cell_type": "code",
   "execution_count": 61,
   "metadata": {},
   "outputs": [
    {
     "name": "stdout",
     "output_type": "stream",
     "text": [
      "Put your word:Singapore\n",
      "Put your word:Thailand\n",
      "Put your word:Chiba\n",
      "Put your word:Canada\n",
      "['Chiba', 'Canada', 'Thailand', 'Singapore']\n"
     ]
    }
   ],
   "source": [
    "word12_1 = input('Put your word:')\n",
    "word12_2 = input('Put your word:')\n",
    "word12_3 = input('Put your word:')\n",
    "word12_4 = input('Put your word:')\n",
    "lst12_1=[word12_1]\n",
    "if len(word12_1)<len(word12_2):\n",
    "    lst12_1.append(word12_2)\n",
    "else:\n",
    "    lst12_1.insert(0,word12_2)\n",
    "\n",
    "if len(lst12_1[1])<len(word12_3):\n",
    "    lst12_1.append(word12_3)\n",
    "elif len(lst12_1[0])>len(word12_3):\n",
    "    lst12_1.insert(0,word12_3)\n",
    "else:\n",
    "    lst12_1.insert(1,word12_3)\n",
    "\n",
    "if len(lst12_1[2])<len(word12_4):\n",
    "    lst12_1.append(word12_4)\n",
    "elif len(lst12_1[0])>len(word12_4):\n",
    "    lst12_1.insert(0,word12_4)\n",
    "elif len(lst12_1[0])<=len(word12_4) and len(lst12_1[1])>=len(word12_4) :\n",
    "    lst12_1.insert(1,word12_4) \n",
    "else:\n",
    "    lst12_1.insert(2,word12_4)\n",
    "\n",
    "print(lst12_1)\n",
    "    \n"
   ]
  },
  {
   "cell_type": "markdown",
   "metadata": {},
   "source": [
    "### Quiz13"
   ]
  },
  {
   "cell_type": "code",
   "execution_count": 65,
   "metadata": {},
   "outputs": [
    {
     "name": "stdout",
     "output_type": "stream",
     "text": [
      "คุณจอดรถกี่ชม (0-60 ชั่วโมง):4\n",
      "คุณจอดรถกี่นาที (0-60 นาที):5\n",
      "You have to pay 610 Baht\n"
     ]
    }
   ],
   "source": [
    "hr_car=int(input('คุณจอดรถกี่ชม (0-60 ชั่วโมง):'))\n",
    "min_car=int(input('คุณจอดรถกี่นาที (0-60 นาที):'))\n",
    "print('You have to pay',hr_car*150+min_car*2,\"Baht\")"
   ]
  },
  {
   "cell_type": "markdown",
   "metadata": {},
   "source": [
    "### Quiz14"
   ]
  },
  {
   "cell_type": "code",
   "execution_count": 75,
   "metadata": {},
   "outputs": [
    {
     "name": "stdout",
     "output_type": "stream",
     "text": [
      "คุณจอดรถกี่ชม (0-60 ชั่วโมง):0\n",
      "คุณจอดรถกี่นาที (0-60 นาที):56\n",
      "You have to pay 0 Baht\n"
     ]
    }
   ],
   "source": [
    "hr14_car=int(input('คุณจอดรถกี่ชม (0-60 ชั่วโมง):'))\n",
    "min14_car=int(input('คุณจอดรถกี่นาที (0-60 นาที):'))\n",
    "if min14_car > 15:\n",
    "    hr14_car +=1\n",
    "print('You have to pay',(hr14_car-1)*300,\"Baht\")"
   ]
  },
  {
   "cell_type": "markdown",
   "metadata": {},
   "source": [
    "### Quiz15"
   ]
  },
  {
   "cell_type": "code",
   "execution_count": 81,
   "metadata": {},
   "outputs": [
    {
     "name": "stdout",
     "output_type": "stream",
     "text": [
      "Put the sum of heads:8\n",
      "Put the sum of legs:28\n",
      "คุณต้องจ่ายภาษีทั้งหมด 1620 บาท\n"
     ]
    }
   ],
   "source": [
    "sum_head=int(input(\"Put the sum of heads:\"))\n",
    "sum_leg=int(input(\"Put the sum of legs:\"))\n",
    "\n",
    "for i in range(0,sum_head+1):\n",
    "    bird=i\n",
    "    cow=sum_head-i\n",
    "    if bird+cow==sum_head and bird*2+cow*4==sum_leg:\n",
    "        print(\"คุณต้องจ่ายภาษีทั้งหมด\",bird*150+cow*220,'บาท')\n",
    "\n"
   ]
  },
  {
   "cell_type": "code",
   "execution_count": null,
   "metadata": {},
   "outputs": [],
   "source": []
  },
  {
   "cell_type": "code",
   "execution_count": null,
   "metadata": {},
   "outputs": [],
   "source": []
  }
 ],
 "metadata": {
  "kernelspec": {
   "display_name": "Python 3",
   "language": "python",
   "name": "python3"
  },
  "language_info": {
   "codemirror_mode": {
    "name": "ipython",
    "version": 3
   },
   "file_extension": ".py",
   "mimetype": "text/x-python",
   "name": "python",
   "nbconvert_exporter": "python",
   "pygments_lexer": "ipython3",
   "version": "3.7.2"
  }
 },
 "nbformat": 4,
 "nbformat_minor": 2
}
